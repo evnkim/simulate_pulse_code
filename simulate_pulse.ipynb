{
 "cells": [
  {
   "cell_type": "markdown",
   "metadata": {},
   "source": [
    "## Dependencies\n",
    "- Distributions"
   ]
  },
  {
   "cell_type": "code",
   "execution_count": 1,
   "metadata": {},
   "outputs": [
    {
     "name": "stderr",
     "output_type": "stream",
     "text": [
      "\u001b[32m\u001b[1m    Updating\u001b[22m\u001b[39m registry at `~/.julia/registries/General.toml`\n"
     ]
    },
    {
     "name": "stderr",
     "output_type": "stream",
     "text": [
      "\u001b[32m\u001b[1m   Resolving\u001b[22m\u001b[39m package versions...\n"
     ]
    },
    {
     "name": "stderr",
     "output_type": "stream",
     "text": [
      "\u001b[32m\u001b[1m  No Changes\u001b[22m\u001b[39m to `~/.julia/environments/v1.9/Project.toml`\n",
      "\u001b[32m\u001b[1m  No Changes\u001b[22m\u001b[39m to `~/.julia/environments/v1.9/Manifest.toml`\n"
     ]
    },
    {
     "name": "stderr",
     "output_type": "stream",
     "text": [
      "\u001b[32m\u001b[1m   Resolving\u001b[22m\u001b[39m package versions...\n"
     ]
    },
    {
     "name": "stderr",
     "output_type": "stream",
     "text": [
      "\u001b[32m\u001b[1m  No Changes\u001b[22m\u001b[39m to `~/.julia/environments/v1.9/Project.toml`\n",
      "\u001b[32m\u001b[1m  No Changes\u001b[22m\u001b[39m to `~/.julia/environments/v1.9/Manifest.toml`\n"
     ]
    }
   ],
   "source": [
    "using Pkg\n",
    "Pkg.add(\"Distributions\")\n",
    "Pkg.add(\"DifferentialEquations\")\n",
    "\n",
    "using LinearAlgebra"
   ]
  },
  {
   "cell_type": "code",
   "execution_count": null,
   "metadata": {},
   "outputs": [],
   "source": [
    "Sx = [0 0.5; 0.5 0]\n",
    "Sy = [0 (-0.5)im; (0.5)im 0]\n",
    "Sz = [0.5 0; 0 -0.5]"
   ]
  },
  {
   "cell_type": "markdown",
   "metadata": {},
   "source": [
    "## Control Parameters\n",
    "We modify $\\{\\omega(t), \\Omega(t), \\phi(t), T\\}$. $\\omega$ is the pulse frequency, $\\Omega$ is the rabi frequency which corresponds to the pulse magnitude, the phase $\\phi$ determines which direction the pulse is applied, and $T$ is the total time allotted.\n",
    "\n",
    "Here we start by defining them manually and just setting up the general simulation."
   ]
  },
  {
   "cell_type": "code",
   "execution_count": 3,
   "metadata": {},
   "outputs": [
    {
     "data": {
      "text/plain": [
       "Dict{String, Any} with 4 entries:\n",
       "  \"rabi\" => #12\n",
       "  \"T\"    => 1\n",
       "  \"phi\"  => #13\n",
       "  \"freq\" => #11"
      ]
     },
     "metadata": {},
     "output_type": "display_data"
    }
   ],
   "source": [
    "baseConstantControl = Dict(\n",
    "    \"freq\" => (t) -> 1,\n",
    "    \"rabi\" => (t) -> 1,\n",
    "    \"phi\" => (t) -> 0,\n",
    "    \"T\" => 1\n",
    ")\n",
    "\n",
    "# function freq(t)\n",
    "#     return 1\n",
    "\n",
    "# function rabi(t)\n",
    "#     return 1\n",
    "    \n",
    "# function phi(t)\n",
    "#     return 0"
   ]
  },
  {
   "cell_type": "markdown",
   "metadata": {},
   "source": [
    "## Simulating"
   ]
  },
  {
   "cell_type": "code",
   "execution_count": null,
   "metadata": {},
   "outputs": [],
   "source": [
    "function hamiltonian(control_params, res_freq t)\n",
    "    return (res_freq - control_params[\"freq\"]) * Sz + control_params[\"rabi\"] * (Sx * cos(phi(t)) + Sy*sin(phi(t)))"
   ]
  },
  {
   "cell_type": "code",
   "execution_count": null,
   "metadata": {},
   "outputs": [],
   "source": [
    "unitary_evolve = \n",
    "\n",
    "function evolve_state(resonant_freq)\n",
    "    "
   ]
  }
 ],
 "metadata": {
  "kernelspec": {
   "display_name": "Julia 1.9.3",
   "language": "julia",
   "name": "julia-1.9"
  },
  "language_info": {
   "file_extension": ".jl",
   "mimetype": "application/julia",
   "name": "julia",
   "version": "1.9.3"
  }
 },
 "nbformat": 4,
 "nbformat_minor": 2
}
